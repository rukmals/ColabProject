{
  "nbformat": 4,
  "nbformat_minor": 0,
  "metadata": {
    "colab": {
      "name": "OPTICS.ipynb",
      "provenance": [],
      "collapsed_sections": [],
      "authorship_tag": "ABX9TyN7pttMq3dDUeurMzQQE+ao",
      "include_colab_link": true
    },
    "kernelspec": {
      "name": "python3",
      "display_name": "Python 3"
    },
    "language_info": {
      "name": "python"
    }
  },
  "cells": [
    {
      "cell_type": "markdown",
      "metadata": {
        "id": "view-in-github",
        "colab_type": "text"
      },
      "source": [
        "<a href=\"https://colab.research.google.com/github/rukmals/ColabProject/blob/master/OPTICS.ipynb\" target=\"_parent\"><img src=\"https://colab.research.google.com/assets/colab-badge.svg\" alt=\"Open In Colab\"/></a>"
      ]
    },
    {
      "cell_type": "code",
      "metadata": {
        "id": "PyFmywWOYgj0"
      },
      "source": [
        "import numpy as np\n",
        "import pandas as pd\n",
        "import matplotlib.pyplot as plt\n",
        "from matplotlib import gridspec\n",
        "from sklearn.cluster import OPTICS, cluster_optics_dbscan\n",
        "from sklearn.preprocessing import normalize, StandardScaler"
      ],
      "execution_count": null,
      "outputs": []
    },
    {
      "cell_type": "code",
      "metadata": {
        "id": "r4qmXqXwYn_q"
      },
      "source": [
        "path = \"/content/sample_data/Mall_Customers.csv\""
      ],
      "execution_count": null,
      "outputs": []
    },
    {
      "cell_type": "code",
      "metadata": {
        "colab": {
          "base_uri": "https://localhost:8080/",
          "height": 204
        },
        "id": "n1ohIBL3Zk7m",
        "outputId": "0a129f57-7982-4958-b3a6-faf24dd4247b"
      },
      "source": [
        "X = pd.read_csv(path)\n",
        "X.head()\n"
      ],
      "execution_count": null,
      "outputs": [
        {
          "output_type": "execute_result",
          "data": {
            "text/html": [
              "<div>\n",
              "<style scoped>\n",
              "    .dataframe tbody tr th:only-of-type {\n",
              "        vertical-align: middle;\n",
              "    }\n",
              "\n",
              "    .dataframe tbody tr th {\n",
              "        vertical-align: top;\n",
              "    }\n",
              "\n",
              "    .dataframe thead th {\n",
              "        text-align: right;\n",
              "    }\n",
              "</style>\n",
              "<table border=\"1\" class=\"dataframe\">\n",
              "  <thead>\n",
              "    <tr style=\"text-align: right;\">\n",
              "      <th></th>\n",
              "      <th>CustomerID</th>\n",
              "      <th>Genre</th>\n",
              "      <th>Age</th>\n",
              "      <th>Annual Income (k$)</th>\n",
              "      <th>Spending Score (1-100)</th>\n",
              "    </tr>\n",
              "  </thead>\n",
              "  <tbody>\n",
              "    <tr>\n",
              "      <th>0</th>\n",
              "      <td>1</td>\n",
              "      <td>Male</td>\n",
              "      <td>19</td>\n",
              "      <td>15</td>\n",
              "      <td>39</td>\n",
              "    </tr>\n",
              "    <tr>\n",
              "      <th>1</th>\n",
              "      <td>2</td>\n",
              "      <td>Male</td>\n",
              "      <td>21</td>\n",
              "      <td>15</td>\n",
              "      <td>81</td>\n",
              "    </tr>\n",
              "    <tr>\n",
              "      <th>2</th>\n",
              "      <td>3</td>\n",
              "      <td>Female</td>\n",
              "      <td>20</td>\n",
              "      <td>16</td>\n",
              "      <td>6</td>\n",
              "    </tr>\n",
              "    <tr>\n",
              "      <th>3</th>\n",
              "      <td>4</td>\n",
              "      <td>Female</td>\n",
              "      <td>23</td>\n",
              "      <td>16</td>\n",
              "      <td>77</td>\n",
              "    </tr>\n",
              "    <tr>\n",
              "      <th>4</th>\n",
              "      <td>5</td>\n",
              "      <td>Female</td>\n",
              "      <td>31</td>\n",
              "      <td>17</td>\n",
              "      <td>40</td>\n",
              "    </tr>\n",
              "  </tbody>\n",
              "</table>\n",
              "</div>"
            ],
            "text/plain": [
              "   CustomerID   Genre  Age  Annual Income (k$)  Spending Score (1-100)\n",
              "0           1    Male   19                  15                      39\n",
              "1           2    Male   21                  15                      81\n",
              "2           3  Female   20                  16                       6\n",
              "3           4  Female   23                  16                      77\n",
              "4           5  Female   31                  17                      40"
            ]
          },
          "metadata": {
            "tags": []
          },
          "execution_count": 5
        }
      ]
    },
    {
      "cell_type": "code",
      "metadata": {
        "colab": {
          "base_uri": "https://localhost:8080/",
          "height": 204
        },
        "id": "0pw_sxqxZp1W",
        "outputId": "2967bb44-99fd-4fdb-c58f-e46a95f25996"
      },
      "source": [
        "drop_features = ['CustomerID', 'Genre']\n",
        "X = X.drop(drop_features, axis = 1)\n",
        "  \n",
        "# Handling the missing values if any\n",
        "X.fillna(method ='ffill', inplace = True)\n",
        "  \n",
        "X.head()"
      ],
      "execution_count": null,
      "outputs": [
        {
          "output_type": "execute_result",
          "data": {
            "text/html": [
              "<div>\n",
              "<style scoped>\n",
              "    .dataframe tbody tr th:only-of-type {\n",
              "        vertical-align: middle;\n",
              "    }\n",
              "\n",
              "    .dataframe tbody tr th {\n",
              "        vertical-align: top;\n",
              "    }\n",
              "\n",
              "    .dataframe thead th {\n",
              "        text-align: right;\n",
              "    }\n",
              "</style>\n",
              "<table border=\"1\" class=\"dataframe\">\n",
              "  <thead>\n",
              "    <tr style=\"text-align: right;\">\n",
              "      <th></th>\n",
              "      <th>Age</th>\n",
              "      <th>Annual Income (k$)</th>\n",
              "      <th>Spending Score (1-100)</th>\n",
              "    </tr>\n",
              "  </thead>\n",
              "  <tbody>\n",
              "    <tr>\n",
              "      <th>0</th>\n",
              "      <td>19</td>\n",
              "      <td>15</td>\n",
              "      <td>39</td>\n",
              "    </tr>\n",
              "    <tr>\n",
              "      <th>1</th>\n",
              "      <td>21</td>\n",
              "      <td>15</td>\n",
              "      <td>81</td>\n",
              "    </tr>\n",
              "    <tr>\n",
              "      <th>2</th>\n",
              "      <td>20</td>\n",
              "      <td>16</td>\n",
              "      <td>6</td>\n",
              "    </tr>\n",
              "    <tr>\n",
              "      <th>3</th>\n",
              "      <td>23</td>\n",
              "      <td>16</td>\n",
              "      <td>77</td>\n",
              "    </tr>\n",
              "    <tr>\n",
              "      <th>4</th>\n",
              "      <td>31</td>\n",
              "      <td>17</td>\n",
              "      <td>40</td>\n",
              "    </tr>\n",
              "  </tbody>\n",
              "</table>\n",
              "</div>"
            ],
            "text/plain": [
              "   Age  Annual Income (k$)  Spending Score (1-100)\n",
              "0   19                  15                      39\n",
              "1   21                  15                      81\n",
              "2   20                  16                       6\n",
              "3   23                  16                      77\n",
              "4   31                  17                      40"
            ]
          },
          "metadata": {
            "tags": []
          },
          "execution_count": 6
        }
      ]
    },
    {
      "cell_type": "markdown",
      "metadata": {
        "id": "qj8K4_uhaDYr"
      },
      "source": [
        "## data preprocessing"
      ]
    },
    {
      "cell_type": "code",
      "metadata": {
        "colab": {
          "base_uri": "https://localhost:8080/",
          "height": 204
        },
        "id": "8M6o2imwZ6wf",
        "outputId": "9bea353f-ff0f-44bd-b3fd-47ea0f99a3c1"
      },
      "source": [
        "\n",
        "# Scaling the data to bring all the attributes to a comparable level\n",
        "scaler = StandardScaler()\n",
        "X_scaled = scaler.fit_transform(X)\n",
        "  \n",
        "# Normalizing the data so that the data\n",
        "# approximately follows a Gaussian distribution\n",
        "X_normalized = normalize(X_scaled)\n",
        "  \n",
        "# Converting the numpy array into a pandas DataFrame\n",
        "X_normalized = pd.DataFrame(X_normalized)\n",
        "  \n",
        "# Renaming the columns\n",
        "X_normalized.columns = X.columns\n",
        "  \n",
        "X_normalized.head()"
      ],
      "execution_count": null,
      "outputs": [
        {
          "output_type": "execute_result",
          "data": {
            "text/html": [
              "<div>\n",
              "<style scoped>\n",
              "    .dataframe tbody tr th:only-of-type {\n",
              "        vertical-align: middle;\n",
              "    }\n",
              "\n",
              "    .dataframe tbody tr th {\n",
              "        vertical-align: top;\n",
              "    }\n",
              "\n",
              "    .dataframe thead th {\n",
              "        text-align: right;\n",
              "    }\n",
              "</style>\n",
              "<table border=\"1\" class=\"dataframe\">\n",
              "  <thead>\n",
              "    <tr style=\"text-align: right;\">\n",
              "      <th></th>\n",
              "      <th>Age</th>\n",
              "      <th>Annual Income (k$)</th>\n",
              "      <th>Spending Score (1-100)</th>\n",
              "    </tr>\n",
              "  </thead>\n",
              "  <tbody>\n",
              "    <tr>\n",
              "      <th>0</th>\n",
              "      <td>-0.622173</td>\n",
              "      <td>-0.759499</td>\n",
              "      <td>-0.189897</td>\n",
              "    </tr>\n",
              "    <tr>\n",
              "      <th>1</th>\n",
              "      <td>-0.518894</td>\n",
              "      <td>-0.704396</td>\n",
              "      <td>0.484330</td>\n",
              "    </tr>\n",
              "    <tr>\n",
              "      <th>2</th>\n",
              "      <td>-0.488556</td>\n",
              "      <td>-0.614244</td>\n",
              "      <td>-0.619691</td>\n",
              "    </tr>\n",
              "    <tr>\n",
              "      <th>3</th>\n",
              "      <td>-0.495541</td>\n",
              "      <td>-0.740949</td>\n",
              "      <td>0.453247</td>\n",
              "    </tr>\n",
              "    <tr>\n",
              "      <th>4</th>\n",
              "      <td>-0.313049</td>\n",
              "      <td>-0.923896</td>\n",
              "      <td>-0.220036</td>\n",
              "    </tr>\n",
              "  </tbody>\n",
              "</table>\n",
              "</div>"
            ],
            "text/plain": [
              "        Age  Annual Income (k$)  Spending Score (1-100)\n",
              "0 -0.622173           -0.759499               -0.189897\n",
              "1 -0.518894           -0.704396                0.484330\n",
              "2 -0.488556           -0.614244               -0.619691\n",
              "3 -0.495541           -0.740949                0.453247\n",
              "4 -0.313049           -0.923896               -0.220036"
            ]
          },
          "metadata": {
            "tags": []
          },
          "execution_count": 7
        }
      ]
    },
    {
      "cell_type": "markdown",
      "metadata": {
        "id": "euUtUJ8gaJt5"
      },
      "source": [
        "## Building the Clustering Model\n",
        "\n"
      ]
    },
    {
      "cell_type": "code",
      "metadata": {
        "colab": {
          "base_uri": "https://localhost:8080/"
        },
        "id": "vwrBnFHoZ-tC",
        "outputId": "7f31550e-1cb6-49c0-c95e-3611a7ad5ea8"
      },
      "source": [
        "# Building the OPTICS Clustering model\n",
        "optics_model = OPTICS(min_samples = 10, xi = 0.05, min_cluster_size = 0.05)\n",
        "  \n",
        "# Training the model\n",
        "optics_model.fit(X_normalized)"
      ],
      "execution_count": null,
      "outputs": [
        {
          "output_type": "execute_result",
          "data": {
            "text/plain": [
              "OPTICS(algorithm='auto', cluster_method='xi', eps=None, leaf_size=30,\n",
              "       max_eps=inf, metric='minkowski', metric_params=None,\n",
              "       min_cluster_size=0.05, min_samples=10, n_jobs=None, p=2,\n",
              "       predecessor_correction=True, xi=0.05)"
            ]
          },
          "metadata": {
            "tags": []
          },
          "execution_count": 8
        }
      ]
    },
    {
      "cell_type": "markdown",
      "metadata": {
        "id": "hIn9ZJ6IaT-8"
      },
      "source": [
        "## Storing the results of the training"
      ]
    },
    {
      "cell_type": "code",
      "metadata": {
        "colab": {
          "base_uri": "https://localhost:8080/"
        },
        "id": "YCf48tjWaPPH",
        "outputId": "3f794bb3-0877-4046-9a48-03c498dad19d"
      },
      "source": [
        "# Producing the labels according to the DBSCAN technique with eps = 0.5\n",
        "labels1 = cluster_optics_dbscan(reachability = optics_model.reachability_,\n",
        "                                   core_distances = optics_model.core_distances_,\n",
        "                                   ordering = optics_model.ordering_, eps = 0.5)\n",
        "  \n",
        "# Producing the labels according to the DBSCAN technique with eps = 2.0\n",
        "labels2 = cluster_optics_dbscan(reachability = optics_model.reachability_,\n",
        "                                   core_distances = optics_model.core_distances_,\n",
        "                                   ordering = optics_model.ordering_, eps = 2)\n",
        "  \n",
        "# Creating a numpy array with numbers at equal spaces till\n",
        "# the specified range\n",
        "space = np.arange(len(X_normalized))\n",
        "  \n",
        "# Storing the reachability distance of each point\n",
        "reachability = optics_model.reachability_[optics_model.ordering_]\n",
        "  \n",
        "# Storing the cluster labels of each point\n",
        "labels = optics_model.labels_[optics_model.ordering_]\n",
        "  \n",
        "print(labels)"
      ],
      "execution_count": null,
      "outputs": [
        {
          "output_type": "stream",
          "text": [
            "[-1 -1 -1  0  0  0  0  0  0  0  0  0  0  0  0  0  0  0  0  0  0  0  0  0\n",
            "  0  0  0  0  0  0  0  0 -1 -1 -1 -1  1  1  1  1  1  1  1  1  1  1  1  1\n",
            "  1  1  1  1  1 -1 -1 -1 -1 -1 -1 -1 -1 -1 -1 -1 -1 -1 -1  2  2  2  2  2\n",
            "  2  2  2  2  2  2  2 -1 -1 -1 -1 -1 -1 -1 -1 -1 -1 -1 -1 -1 -1 -1 -1 -1\n",
            " -1  3  3  3  3  3  3  3  3  3  3  3  3  3 -1 -1 -1 -1 -1  4  4  4  4  4\n",
            "  4  4  4  4  4  4  4  4  4  4  4  4  4  4  4  4  4  4  4  4  4  4  4  4\n",
            "  4 -1 -1 -1 -1 -1 -1 -1 -1 -1 -1 -1 -1 -1 -1 -1  5  5  5  5  5  5  5  5\n",
            "  5  5  5  5  5  5  5  5  5  5  5  5  5  5  5  5  5  5  5  5  5  5  5  5\n",
            "  5  5  5  5  5  5  5  5]\n"
          ],
          "name": "stdout"
        }
      ]
    },
    {
      "cell_type": "markdown",
      "metadata": {
        "id": "zSLDO7Loaa0e"
      },
      "source": [
        "##Visualizing the results"
      ]
    },
    {
      "cell_type": "code",
      "metadata": {
        "colab": {
          "base_uri": "https://localhost:8080/",
          "height": 513
        },
        "id": "FNr-C0e4aXAt",
        "outputId": "a0f50d0d-7f3a-4f61-aa9d-36249a1324c9"
      },
      "source": [
        "# Defining the framework of the visualization\n",
        "plt.figure(figsize =(10, 7))\n",
        "G = gridspec.GridSpec(2, 3)\n",
        "ax1 = plt.subplot(G[0, :])\n",
        "ax2 = plt.subplot(G[1, 0])\n",
        "ax3 = plt.subplot(G[1, 1])\n",
        "ax4 = plt.subplot(G[1, 2])\n",
        "  \n",
        "# Plotting the Reachability-Distance Plot\n",
        "colors = ['c.', 'b.', 'r.', 'y.', 'g.']\n",
        "for Class, colour in zip(range(0, 5), colors):\n",
        "    Xk = space[labels == Class]\n",
        "    Rk = reachability[labels == Class]\n",
        "    ax1.plot(Xk, Rk, colour, alpha = 0.3)\n",
        "ax1.plot(space[labels == -1], reachability[labels == -1], 'k.', alpha = 0.3)\n",
        "ax1.plot(space, np.full_like(space, 2., dtype = float), 'k-', alpha = 0.5)\n",
        "ax1.plot(space, np.full_like(space, 0.5, dtype = float), 'k-.', alpha = 0.5)\n",
        "ax1.set_ylabel('Reachability Distance')\n",
        "ax1.set_title('Reachability Plot')\n",
        "  \n",
        "# Plotting the OPTICS Clustering\n",
        "colors = ['c.', 'b.', 'r.', 'y.', 'g.']\n",
        "for Class, colour in zip(range(0, 5), colors):\n",
        "    Xk = X_normalized[optics_model.labels_ == Class]\n",
        "    ax2.plot(Xk.iloc[:, 0], Xk.iloc[:, 1], colour, alpha = 0.3)\n",
        "      \n",
        "ax2.plot(X_normalized.iloc[optics_model.labels_ == -1, 0],\n",
        "        X_normalized.iloc[optics_model.labels_ == -1, 1],\n",
        "       'k+', alpha = 0.1)\n",
        "ax2.set_title('OPTICS Clustering')\n",
        "  \n",
        "# Plotting the DBSCAN Clustering with eps = 0.5\n",
        "colors = ['c', 'b', 'r', 'y', 'g', 'greenyellow']\n",
        "for Class, colour in zip(range(0, 6), colors):\n",
        "    Xk = X_normalized[labels1 == Class]\n",
        "    ax3.plot(Xk.iloc[:, 0], Xk.iloc[:, 1], colour, alpha = 0.3, marker ='.')\n",
        "        \n",
        "ax3.plot(X_normalized.iloc[labels1 == -1, 0],\n",
        "        X_normalized.iloc[labels1 == -1, 1],\n",
        "       'k+', alpha = 0.1)\n",
        "ax3.set_title('DBSCAN clustering with eps = 0.5')\n",
        "  \n",
        "# Plotting the DBSCAN Clustering with eps = 2.0\n",
        "colors = ['c.', 'y.', 'm.', 'g.']\n",
        "for Class, colour in zip(range(0, 4), colors):\n",
        "    Xk = X_normalized.iloc[labels2 == Class]\n",
        "    ax4.plot(Xk.iloc[:, 0], Xk.iloc[:, 1], colour, alpha = 0.3)\n",
        "          \n",
        "ax4.plot(X_normalized.iloc[labels2 == -1, 0],\n",
        "        X_normalized.iloc[labels2 == -1, 1],\n",
        "       'k+', alpha = 0.1)\n",
        "ax4.set_title('DBSCAN Clustering with eps = 2.0')\n",
        "  \n",
        "  \n",
        "plt.tight_layout()\n",
        "plt.show()"
      ],
      "execution_count": null,
      "outputs": [
        {
          "output_type": "display_data",
          "data": {
            "image/png": "[encoded data removed]",
            "text/plain": [
              "<Figure size 720x504 with 4 Axes>"
            ]
          },
          "metadata": {
            "tags": [],
            "needs_background": "light"
          }
        }
      ]
    },
    {
      "cell_type": "code",
      "metadata": {
        "id": "crs4WA1janoD"
      },
      "source": [
        ""
      ],
      "execution_count": null,
      "outputs": []
    }
  ]
}