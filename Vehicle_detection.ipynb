{
  "nbformat": 4,
  "nbformat_minor": 0,
  "metadata": {
    "colab": {
      "name": "Vehicle_detection.ipynb",
      "provenance": [],
      "include_colab_link": true
    },
    "kernelspec": {
      "name": "python3",
      "display_name": "Python 3"
    },
    "language_info": {
      "name": "python"
    }
  },
  "cells": [
    {
      "cell_type": "markdown",
      "metadata": {
        "id": "view-in-github",
        "colab_type": "text"
      },
      "source": [
        "<a href=\"https://colab.research.google.com/github/rukmals/ColabProject/blob/master/Vehicle_detection.ipynb\" target=\"_parent\"><img src=\"https://colab.research.google.com/assets/colab-badge.svg\" alt=\"Open In Colab\"/></a>"
      ]
    },
    {
      "cell_type": "code",
      "metadata": {
        "id": "prmvtHm5FqL-"
      },
      "source": [
        "#import libraries\n",
        "import numpy as np\n",
        "import pandas as pd\n",
        "import matplotlib.pyplot as plt\n",
        "import seaborn as sns"
      ],
      "execution_count": null,
      "outputs": []
    },
    {
      "cell_type": "code",
      "metadata": {
        "colab": {
          "resources": {
            "http://localhost:8080/nbextensions/google.colab/files.js": {
              "data": "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",
              "ok": true,
              "headers": [
                [
                  "content-type",
                  "application/javascript"
                ]
              ],
              "status": 200,
              "status_text": ""
            }
          },
          "base_uri": "https://localhost:8080/",
          "height": 341
        },
        "id": "GWOn6ckDGUEY",
        "outputId": "59a36431-623d-41a0-a8f4-2eca50350c77"
      },
      "source": [
        "#load the data\n",
        "from google.colab import files\n",
        "uploaded = files.upload()\n",
        "df = pd.read_csv('CSE_DSIntro1_TRAIN.csv')\n",
        "df.head(7)"
      ],
      "execution_count": null,
      "outputs": [
        {
          "output_type": "display_data",
          "data": {
            "text/html": [
              "\n",
              "     <input type=\"file\" id=\"files-624f4693-bc1a-4ac8-bd6c-4b862f68fb4c\" name=\"files[]\" multiple disabled\n",
              "        style=\"border:none\" />\n",
              "     <output id=\"result-624f4693-bc1a-4ac8-bd6c-4b862f68fb4c\">\n",
              "      Upload widget is only available when the cell has been executed in the\n",
              "      current browser session. Please rerun this cell to enable.\n",
              "      </output>\n",
              "      <script src=\"/nbextensions/google.colab/files.js\"></script> "
            ],
            "text/plain": [
              "<IPython.core.display.HTML object>"
            ]
          },
          "metadata": {
            "tags": []
          }
        },
        {
          "output_type": "stream",
          "text": [
            "Saving CSE_DSIntro1_TRAIN.csv to CSE_DSIntro1_TRAIN.csv\n"
          ],
          "name": "stdout"
        },
        {
          "output_type": "execute_result",
          "data": {
            "text/html": [
              "<div>\n",
              "<style scoped>\n",
              "    .dataframe tbody tr th:only-of-type {\n",
              "        vertical-align: middle;\n",
              "    }\n",
              "\n",
              "    .dataframe tbody tr th {\n",
              "        vertical-align: top;\n",
              "    }\n",
              "\n",
              "    .dataframe thead th {\n",
              "        text-align: right;\n",
              "    }\n",
              "</style>\n",
              "<table border=\"1\" class=\"dataframe\">\n",
              "  <thead>\n",
              "    <tr style=\"text-align: right;\">\n",
              "      <th></th>\n",
              "      <th>Id</th>\n",
              "      <th>Column_1</th>\n",
              "      <th>Column_2</th>\n",
              "      <th>Column_3</th>\n",
              "      <th>Column_4</th>\n",
              "      <th>Column_5</th>\n",
              "      <th>Column_6</th>\n",
              "      <th>Column_7</th>\n",
              "      <th>Column_8</th>\n",
              "      <th>Column_9</th>\n",
              "      <th>Column_10</th>\n",
              "      <th>Column_11</th>\n",
              "      <th>Column_12</th>\n",
              "      <th>Column_13</th>\n",
              "      <th>Column_14</th>\n",
              "      <th>Column_15</th>\n",
              "      <th>Column_16</th>\n",
              "      <th>Column_17</th>\n",
              "      <th>Column_18</th>\n",
              "      <th>Column_19</th>\n",
              "      <th>Column_20</th>\n",
              "      <th>Column_21</th>\n",
              "      <th>Column_22</th>\n",
              "      <th>Column_23</th>\n",
              "      <th>Column_24</th>\n",
              "      <th>Column_25</th>\n",
              "      <th>Column_26</th>\n",
              "      <th>Column_27</th>\n",
              "      <th>Column_28</th>\n",
              "      <th>Column_29</th>\n",
              "      <th>Column_30</th>\n",
              "      <th>Column_31</th>\n",
              "      <th>Column_32</th>\n",
              "      <th>Column_33</th>\n",
              "      <th>Column_34</th>\n",
              "      <th>Column_35</th>\n",
              "      <th>Column_36</th>\n",
              "      <th>Column_37</th>\n",
              "      <th>Column_38</th>\n",
              "      <th>Column_39</th>\n",
              "      <th>Column_40</th>\n",
              "      <th>Column_41</th>\n",
              "      <th>Column_42</th>\n",
              "      <th>Column_43</th>\n",
              "      <th>Column_44</th>\n",
              "      <th>Column_45</th>\n",
              "      <th>Column_46</th>\n",
              "      <th>Column_47</th>\n",
              "      <th>Column_48</th>\n",
              "      <th>Column_49</th>\n",
              "      <th>Column_50</th>\n",
              "      <th>Column_51</th>\n",
              "      <th>Column_52</th>\n",
              "      <th>Column_53</th>\n",
              "      <th>Column_54</th>\n",
              "      <th>Column_55</th>\n",
              "      <th>Column_56</th>\n",
              "      <th>Column_57</th>\n",
              "      <th>Column_58</th>\n",
              "      <th>Column_59</th>\n",
              "      <th>Column_60</th>\n",
              "      <th>Column_61</th>\n",
              "      <th>Column_62</th>\n",
              "      <th>Column_63</th>\n",
              "      <th>Column_64</th>\n",
              "      <th>Column_65</th>\n",
              "      <th>Column_66</th>\n",
              "      <th>Column_67</th>\n",
              "      <th>Column_68</th>\n",
              "      <th>Column_69</th>\n",
              "      <th>Column_70</th>\n",
              "      <th>Column_71</th>\n",
              "      <th>Column_72</th>\n",
              "      <th>Column_73</th>\n",
              "      <th>Column_74</th>\n",
              "      <th>Column_75</th>\n",
              "      <th>Column_76</th>\n",
              "      <th>Column_77</th>\n",
              "      <th>Category</th>\n",
              "    </tr>\n",
              "  </thead>\n",
              "  <tbody>\n",
              "    <tr>\n",
              "      <th>0</th>\n",
              "      <td>1</td>\n",
              "      <td>77041.50</td>\n",
              "      <td>44471.03389</td>\n",
              "      <td>88955.41342</td>\n",
              "      <td>1602.4632</td>\n",
              "      <td>1787.3628</td>\n",
              "      <td>1571.6466</td>\n",
              "      <td>1294.2972</td>\n",
              "      <td>1664.0964</td>\n",
              "      <td>1756.5462</td>\n",
              "      <td>1016.9478</td>\n",
              "      <td>801.2316</td>\n",
              "      <td>1510.0134</td>\n",
              "      <td>1355.9304</td>\n",
              "      <td>1047.7644</td>\n",
              "      <td>1848.9960</td>\n",
              "      <td>1109.3976</td>\n",
              "      <td>1140.2142</td>\n",
              "      <td>1694.9130</td>\n",
              "      <td>1386.7470</td>\n",
              "      <td>1078.5810</td>\n",
              "      <td>986.1312</td>\n",
              "      <td>523.8822</td>\n",
              "      <td>739.5984</td>\n",
              "      <td>1479.1968</td>\n",
              "      <td>1417.5636</td>\n",
              "      <td>1171.0308</td>\n",
              "      <td>616.3320</td>\n",
              "      <td>955.3146</td>\n",
              "      <td>893.6814</td>\n",
              "      <td>585.5154</td>\n",
              "      <td>770.4150</td>\n",
              "      <td>554.6988</td>\n",
              "      <td>708.7818</td>\n",
              "      <td>1201.8474</td>\n",
              "      <td>924.4980</td>\n",
              "      <td>832.0482</td>\n",
              "      <td>1232.664</td>\n",
              "      <td>862.8648</td>\n",
              "      <td>369.7992</td>\n",
              "      <td>677.9652</td>\n",
              "      <td>431.4324</td>\n",
              "      <td>400.6158</td>\n",
              "      <td>308.1660</td>\n",
              "      <td>277.3494</td>\n",
              "      <td>215.7162</td>\n",
              "      <td>338.9826</td>\n",
              "      <td>184.8996</td>\n",
              "      <td>246.5328</td>\n",
              "      <td>154.0830</td>\n",
              "      <td>123.2664</td>\n",
              "      <td>92.4498</td>\n",
              "      <td>30.8166</td>\n",
              "      <td>61.6332</td>\n",
              "      <td>1834</td>\n",
              "      <td>32</td>\n",
              "      <td>308166</td>\n",
              "      <td>10000</td>\n",
              "      <td>63635.31373</td>\n",
              "      <td>1.527772</td>\n",
              "      <td>0.073608</td>\n",
              "      <td>1.511108</td>\n",
              "      <td>63642.86256</td>\n",
              "      <td>1.527652</td>\n",
              "      <td>0.073507</td>\n",
              "      <td>1.511320</td>\n",
              "      <td>11</td>\n",
              "      <td>23</td>\n",
              "      <td>15</td>\n",
              "      <td>22</td>\n",
              "      <td>2</td>\n",
              "      <td>2021</td>\n",
              "      <td>11</td>\n",
              "      <td>23</td>\n",
              "      <td>15</td>\n",
              "      <td>22</td>\n",
              "      <td>2</td>\n",
              "      <td>2021</td>\n",
              "      <td>0</td>\n",
              "    </tr>\n",
              "    <tr>\n",
              "      <th>1</th>\n",
              "      <td>2</td>\n",
              "      <td>77120.00</td>\n",
              "      <td>44516.34682</td>\n",
              "      <td>89046.05288</td>\n",
              "      <td>1573.2480</td>\n",
              "      <td>2128.5120</td>\n",
              "      <td>987.1360</td>\n",
              "      <td>956.2880</td>\n",
              "      <td>1511.5520</td>\n",
              "      <td>1388.1600</td>\n",
              "      <td>1881.7280</td>\n",
              "      <td>1789.1840</td>\n",
              "      <td>1604.0960</td>\n",
              "      <td>1172.2240</td>\n",
              "      <td>1295.6160</td>\n",
              "      <td>1696.6400</td>\n",
              "      <td>832.8960</td>\n",
              "      <td>1419.0080</td>\n",
              "      <td>1326.4640</td>\n",
              "      <td>1449.8560</td>\n",
              "      <td>678.6560</td>\n",
              "      <td>1357.3120</td>\n",
              "      <td>1017.9840</td>\n",
              "      <td>493.5680</td>\n",
              "      <td>1203.0720</td>\n",
              "      <td>616.9600</td>\n",
              "      <td>1141.3760</td>\n",
              "      <td>894.5920</td>\n",
              "      <td>1110.5280</td>\n",
              "      <td>1079.6800</td>\n",
              "      <td>555.2640</td>\n",
              "      <td>647.8080</td>\n",
              "      <td>925.4400</td>\n",
              "      <td>771.2000</td>\n",
              "      <td>1233.9200</td>\n",
              "      <td>586.1120</td>\n",
              "      <td>802.0480</td>\n",
              "      <td>740.352</td>\n",
              "      <td>863.7440</td>\n",
              "      <td>1048.8320</td>\n",
              "      <td>709.5040</td>\n",
              "      <td>401.0240</td>\n",
              "      <td>524.4160</td>\n",
              "      <td>431.8720</td>\n",
              "      <td>308.4800</td>\n",
              "      <td>185.0880</td>\n",
              "      <td>277.6320</td>\n",
              "      <td>215.9360</td>\n",
              "      <td>339.3280</td>\n",
              "      <td>154.2400</td>\n",
              "      <td>123.3920</td>\n",
              "      <td>92.5440</td>\n",
              "      <td>30.8480</td>\n",
              "      <td>61.6960</td>\n",
              "      <td>2167</td>\n",
              "      <td>32</td>\n",
              "      <td>308480</td>\n",
              "      <td>10000</td>\n",
              "      <td>63656.80693</td>\n",
              "      <td>1.527630</td>\n",
              "      <td>0.073701</td>\n",
              "      <td>1.511097</td>\n",
              "      <td>63649.22304</td>\n",
              "      <td>1.527373</td>\n",
              "      <td>0.073794</td>\n",
              "      <td>1.511169</td>\n",
              "      <td>11</td>\n",
              "      <td>23</td>\n",
              "      <td>15</td>\n",
              "      <td>22</td>\n",
              "      <td>2</td>\n",
              "      <td>2021</td>\n",
              "      <td>11</td>\n",
              "      <td>23</td>\n",
              "      <td>15</td>\n",
              "      <td>22</td>\n",
              "      <td>2</td>\n",
              "      <td>2021</td>\n",
              "      <td>0</td>\n",
              "    </tr>\n",
              "    <tr>\n",
              "      <th>2</th>\n",
              "      <td>3</td>\n",
              "      <td>77120.00</td>\n",
              "      <td>44516.34682</td>\n",
              "      <td>89046.05288</td>\n",
              "      <td>1789.1840</td>\n",
              "      <td>1511.5520</td>\n",
              "      <td>1665.7920</td>\n",
              "      <td>1326.4640</td>\n",
              "      <td>1357.3120</td>\n",
              "      <td>1634.9440</td>\n",
              "      <td>1388.1600</td>\n",
              "      <td>1573.2480</td>\n",
              "      <td>678.6560</td>\n",
              "      <td>277.6320</td>\n",
              "      <td>1604.0960</td>\n",
              "      <td>1172.2240</td>\n",
              "      <td>1758.3360</td>\n",
              "      <td>956.2880</td>\n",
              "      <td>802.0480</td>\n",
              "      <td>1233.9200</td>\n",
              "      <td>1079.6800</td>\n",
              "      <td>308.4800</td>\n",
              "      <td>1419.0080</td>\n",
              "      <td>832.8960</td>\n",
              "      <td>987.1360</td>\n",
              "      <td>740.3520</td>\n",
              "      <td>1912.5760</td>\n",
              "      <td>1141.3760</td>\n",
              "      <td>925.4400</td>\n",
              "      <td>709.5040</td>\n",
              "      <td>431.8720</td>\n",
              "      <td>1264.7680</td>\n",
              "      <td>771.2000</td>\n",
              "      <td>1542.4000</td>\n",
              "      <td>894.5920</td>\n",
              "      <td>555.2640</td>\n",
              "      <td>1017.9840</td>\n",
              "      <td>863.744</td>\n",
              "      <td>586.1120</td>\n",
              "      <td>616.9600</td>\n",
              "      <td>1048.8320</td>\n",
              "      <td>493.5680</td>\n",
              "      <td>524.4160</td>\n",
              "      <td>370.1760</td>\n",
              "      <td>462.7200</td>\n",
              "      <td>647.8080</td>\n",
              "      <td>185.0880</td>\n",
              "      <td>215.9360</td>\n",
              "      <td>154.2400</td>\n",
              "      <td>246.7840</td>\n",
              "      <td>123.3920</td>\n",
              "      <td>92.5440</td>\n",
              "      <td>30.8480</td>\n",
              "      <td>61.6960</td>\n",
              "      <td>2568</td>\n",
              "      <td>32</td>\n",
              "      <td>308480</td>\n",
              "      <td>10000</td>\n",
              "      <td>63648.70842</td>\n",
              "      <td>1.527451</td>\n",
              "      <td>0.073684</td>\n",
              "      <td>1.511247</td>\n",
              "      <td>63658.20567</td>\n",
              "      <td>1.527631</td>\n",
              "      <td>0.073571</td>\n",
              "      <td>1.511256</td>\n",
              "      <td>11</td>\n",
              "      <td>23</td>\n",
              "      <td>15</td>\n",
              "      <td>22</td>\n",
              "      <td>2</td>\n",
              "      <td>2021</td>\n",
              "      <td>11</td>\n",
              "      <td>23</td>\n",
              "      <td>15</td>\n",
              "      <td>22</td>\n",
              "      <td>2</td>\n",
              "      <td>2021</td>\n",
              "      <td>0</td>\n",
              "    </tr>\n",
              "    <tr>\n",
              "      <th>3</th>\n",
              "      <td>4</td>\n",
              "      <td>77117.50</td>\n",
              "      <td>44514.90373</td>\n",
              "      <td>89043.16628</td>\n",
              "      <td>1511.5030</td>\n",
              "      <td>1789.1260</td>\n",
              "      <td>1233.8800</td>\n",
              "      <td>1881.6670</td>\n",
              "      <td>1418.9620</td>\n",
              "      <td>2159.2900</td>\n",
              "      <td>1388.1150</td>\n",
              "      <td>1110.4920</td>\n",
              "      <td>1141.3390</td>\n",
              "      <td>987.1040</td>\n",
              "      <td>709.4810</td>\n",
              "      <td>1573.1970</td>\n",
              "      <td>1480.6560</td>\n",
              "      <td>1264.7270</td>\n",
              "      <td>431.8580</td>\n",
              "      <td>1326.4210</td>\n",
              "      <td>740.3280</td>\n",
              "      <td>401.0110</td>\n",
              "      <td>1172.1860</td>\n",
              "      <td>1203.0330</td>\n",
              "      <td>1079.6450</td>\n",
              "      <td>894.5630</td>\n",
              "      <td>1295.5740</td>\n",
              "      <td>802.0220</td>\n",
              "      <td>678.6340</td>\n",
              "      <td>925.4100</td>\n",
              "      <td>339.3170</td>\n",
              "      <td>616.9400</td>\n",
              "      <td>1048.7980</td>\n",
              "      <td>863.7160</td>\n",
              "      <td>832.8690</td>\n",
              "      <td>586.0930</td>\n",
              "      <td>308.4700</td>\n",
              "      <td>1017.951</td>\n",
              "      <td>771.1750</td>\n",
              "      <td>647.7870</td>\n",
              "      <td>524.3990</td>\n",
              "      <td>462.7050</td>\n",
              "      <td>493.5520</td>\n",
              "      <td>555.2460</td>\n",
              "      <td>215.9290</td>\n",
              "      <td>277.6230</td>\n",
              "      <td>185.0820</td>\n",
              "      <td>370.1640</td>\n",
              "      <td>154.2350</td>\n",
              "      <td>246.7760</td>\n",
              "      <td>123.3880</td>\n",
              "      <td>92.5410</td>\n",
              "      <td>30.8470</td>\n",
              "      <td>61.6940</td>\n",
              "      <td>2405</td>\n",
              "      <td>32</td>\n",
              "      <td>308470</td>\n",
              "      <td>10000</td>\n",
              "      <td>63646.45414</td>\n",
              "      <td>1.527544</td>\n",
              "      <td>0.073631</td>\n",
              "      <td>1.511245</td>\n",
              "      <td>63655.53620</td>\n",
              "      <td>1.527550</td>\n",
              "      <td>0.073430</td>\n",
              "      <td>1.511489</td>\n",
              "      <td>11</td>\n",
              "      <td>23</td>\n",
              "      <td>16</td>\n",
              "      <td>22</td>\n",
              "      <td>2</td>\n",
              "      <td>2021</td>\n",
              "      <td>11</td>\n",
              "      <td>23</td>\n",
              "      <td>16</td>\n",
              "      <td>22</td>\n",
              "      <td>2</td>\n",
              "      <td>2021</td>\n",
              "      <td>0</td>\n",
              "    </tr>\n",
              "    <tr>\n",
              "      <th>4</th>\n",
              "      <td>5</td>\n",
              "      <td>77120.00</td>\n",
              "      <td>44516.34682</td>\n",
              "      <td>89046.05288</td>\n",
              "      <td>1974.2720</td>\n",
              "      <td>1696.6400</td>\n",
              "      <td>832.8960</td>\n",
              "      <td>1820.0320</td>\n",
              "      <td>1758.3360</td>\n",
              "      <td>1727.4880</td>\n",
              "      <td>1295.6160</td>\n",
              "      <td>1388.1600</td>\n",
              "      <td>1789.1840</td>\n",
              "      <td>1326.4640</td>\n",
              "      <td>1634.9440</td>\n",
              "      <td>2190.2080</td>\n",
              "      <td>1079.6800</td>\n",
              "      <td>678.6560</td>\n",
              "      <td>1480.7040</td>\n",
              "      <td>1912.5760</td>\n",
              "      <td>246.7840</td>\n",
              "      <td>1850.8800</td>\n",
              "      <td>2035.9680</td>\n",
              "      <td>2344.4480</td>\n",
              "      <td>1542.4000</td>\n",
              "      <td>493.5680</td>\n",
              "      <td>1233.9200</td>\n",
              "      <td>1203.0720</td>\n",
              "      <td>1017.9840</td>\n",
              "      <td>1665.7920</td>\n",
              "      <td>185.0880</td>\n",
              "      <td>1172.2240</td>\n",
              "      <td>215.9360</td>\n",
              "      <td>987.1360</td>\n",
              "      <td>616.9600</td>\n",
              "      <td>1141.3760</td>\n",
              "      <td>462.7200</td>\n",
              "      <td>894.592</td>\n",
              "      <td>524.4160</td>\n",
              "      <td>740.3520</td>\n",
              "      <td>802.0480</td>\n",
              "      <td>771.2000</td>\n",
              "      <td>277.6320</td>\n",
              "      <td>1048.8320</td>\n",
              "      <td>925.4400</td>\n",
              "      <td>709.5040</td>\n",
              "      <td>586.1120</td>\n",
              "      <td>647.8080</td>\n",
              "      <td>308.4800</td>\n",
              "      <td>123.3920</td>\n",
              "      <td>339.3280</td>\n",
              "      <td>92.5440</td>\n",
              "      <td>30.8480</td>\n",
              "      <td>61.6960</td>\n",
              "      <td>3149</td>\n",
              "      <td>32</td>\n",
              "      <td>308480</td>\n",
              "      <td>10000</td>\n",
              "      <td>63653.44768</td>\n",
              "      <td>1.527329</td>\n",
              "      <td>0.073626</td>\n",
              "      <td>1.511409</td>\n",
              "      <td>63637.01387</td>\n",
              "      <td>1.527490</td>\n",
              "      <td>0.073543</td>\n",
              "      <td>1.511393</td>\n",
              "      <td>11</td>\n",
              "      <td>23</td>\n",
              "      <td>16</td>\n",
              "      <td>22</td>\n",
              "      <td>2</td>\n",
              "      <td>2021</td>\n",
              "      <td>11</td>\n",
              "      <td>23</td>\n",
              "      <td>16</td>\n",
              "      <td>22</td>\n",
              "      <td>2</td>\n",
              "      <td>2021</td>\n",
              "      <td>0</td>\n",
              "    </tr>\n",
              "    <tr>\n",
              "      <th>5</th>\n",
              "      <td>6</td>\n",
              "      <td>77122.25</td>\n",
              "      <td>44517.64560</td>\n",
              "      <td>89048.65083</td>\n",
              "      <td>586.1291</td>\n",
              "      <td>1264.8049</td>\n",
              "      <td>1696.6895</td>\n",
              "      <td>1573.2939</td>\n",
              "      <td>493.5824</td>\n",
              "      <td>1233.9560</td>\n",
              "      <td>987.1648</td>\n",
              "      <td>154.2445</td>\n",
              "      <td>1449.8983</td>\n",
              "      <td>709.5247</td>\n",
              "      <td>1018.0137</td>\n",
              "      <td>2560.4587</td>\n",
              "      <td>1542.4450</td>\n",
              "      <td>1511.5961</td>\n",
              "      <td>1604.1428</td>\n",
              "      <td>1634.9917</td>\n",
              "      <td>2097.7252</td>\n",
              "      <td>246.7912</td>\n",
              "      <td>1079.7115</td>\n",
              "      <td>1850.9340</td>\n",
              "      <td>1419.0494</td>\n",
              "      <td>2159.4230</td>\n",
              "      <td>1820.0851</td>\n",
              "      <td>1295.6538</td>\n",
              "      <td>863.7692</td>\n",
              "      <td>1048.8626</td>\n",
              "      <td>1172.2582</td>\n",
              "      <td>524.4313</td>\n",
              "      <td>277.6401</td>\n",
              "      <td>832.9203</td>\n",
              "      <td>1203.1071</td>\n",
              "      <td>740.3736</td>\n",
              "      <td>1480.7472</td>\n",
              "      <td>308.489</td>\n",
              "      <td>2036.0274</td>\n",
              "      <td>215.9423</td>\n",
              "      <td>462.7335</td>\n",
              "      <td>1110.5604</td>\n",
              "      <td>925.4670</td>\n",
              "      <td>771.2225</td>\n",
              "      <td>616.9780</td>\n",
              "      <td>678.6758</td>\n",
              "      <td>185.0934</td>\n",
              "      <td>894.6181</td>\n",
              "      <td>647.8269</td>\n",
              "      <td>123.3956</td>\n",
              "      <td>339.3379</td>\n",
              "      <td>92.5467</td>\n",
              "      <td>30.8489</td>\n",
              "      <td>61.6978</td>\n",
              "      <td>3237</td>\n",
              "      <td>32</td>\n",
              "      <td>308489</td>\n",
              "      <td>10000</td>\n",
              "      <td>63648.41105</td>\n",
              "      <td>1.527451</td>\n",
              "      <td>0.073621</td>\n",
              "      <td>1.511325</td>\n",
              "      <td>63649.52120</td>\n",
              "      <td>1.527373</td>\n",
              "      <td>0.073857</td>\n",
              "      <td>1.511090</td>\n",
              "      <td>11</td>\n",
              "      <td>23</td>\n",
              "      <td>17</td>\n",
              "      <td>22</td>\n",
              "      <td>2</td>\n",
              "      <td>2021</td>\n",
              "      <td>11</td>\n",
              "      <td>23</td>\n",
              "      <td>17</td>\n",
              "      <td>22</td>\n",
              "      <td>2</td>\n",
              "      <td>2021</td>\n",
              "      <td>0</td>\n",
              "    </tr>\n",
              "    <tr>\n",
              "      <th>6</th>\n",
              "      <td>7</td>\n",
              "      <td>77120.00</td>\n",
              "      <td>44516.34682</td>\n",
              "      <td>89046.05288</td>\n",
              "      <td>4719.7440</td>\n",
              "      <td>4226.1760</td>\n",
              "      <td>2221.0560</td>\n",
              "      <td>1017.9840</td>\n",
              "      <td>2868.8640</td>\n",
              "      <td>2035.9680</td>\n",
              "      <td>586.1120</td>\n",
              "      <td>7280.1280</td>\n",
              "      <td>7526.9120</td>\n",
              "      <td>4966.5280</td>\n",
              "      <td>678.6560</td>\n",
              "      <td>82765.1840</td>\n",
              "      <td>3208.1920</td>\n",
              "      <td>3701.7600</td>\n",
              "      <td>4503.8080</td>\n",
              "      <td>2344.4480</td>\n",
              "      <td>14837.8880</td>\n",
              "      <td>15855.8720</td>\n",
              "      <td>2251.9040</td>\n",
              "      <td>15177.2160</td>\n",
              "      <td>1419.0080</td>\n",
              "      <td>2714.6240</td>\n",
              "      <td>956.2880</td>\n",
              "      <td>863.7440</td>\n",
              "      <td>1264.7680</td>\n",
              "      <td>2313.6000</td>\n",
              "      <td>2436.9920</td>\n",
              "      <td>13912.4480</td>\n",
              "      <td>3084.8000</td>\n",
              "      <td>2005.1200</td>\n",
              "      <td>1573.2480</td>\n",
              "      <td>55588.0960</td>\n",
              "      <td>45254.0160</td>\n",
              "      <td>154.240</td>\n",
              "      <td>1295.6160</td>\n",
              "      <td>15146.3680</td>\n",
              "      <td>4781.4400</td>\n",
              "      <td>5305.8560</td>\n",
              "      <td>555.2640</td>\n",
              "      <td>30323.5840</td>\n",
              "      <td>14652.8000</td>\n",
              "      <td>647.8080</td>\n",
              "      <td>339.3280</td>\n",
              "      <td>123.3920</td>\n",
              "      <td>246.7840</td>\n",
              "      <td>112595.2000</td>\n",
              "      <td>97942.4000</td>\n",
              "      <td>92.5440</td>\n",
              "      <td>30.8480</td>\n",
              "      <td>61.6960</td>\n",
              "      <td>3364</td>\n",
              "      <td>32</td>\n",
              "      <td>308480</td>\n",
              "      <td>10000</td>\n",
              "      <td>63643.22577</td>\n",
              "      <td>1.527369</td>\n",
              "      <td>0.073584</td>\n",
              "      <td>1.511431</td>\n",
              "      <td>63659.47199</td>\n",
              "      <td>1.527065</td>\n",
              "      <td>0.073841</td>\n",
              "      <td>1.511336</td>\n",
              "      <td>11</td>\n",
              "      <td>23</td>\n",
              "      <td>17</td>\n",
              "      <td>22</td>\n",
              "      <td>2</td>\n",
              "      <td>2021</td>\n",
              "      <td>11</td>\n",
              "      <td>23</td>\n",
              "      <td>17</td>\n",
              "      <td>22</td>\n",
              "      <td>2</td>\n",
              "      <td>2021</td>\n",
              "      <td>0</td>\n",
              "    </tr>\n",
              "  </tbody>\n",
              "</table>\n",
              "</div>"
            ],
            "text/plain": [
              "   Id  Column_1     Column_2  ...  Column_76  Column_77  Category\n",
              "0   1  77041.50  44471.03389  ...          2       2021         0\n",
              "1   2  77120.00  44516.34682  ...          2       2021         0\n",
              "2   3  77120.00  44516.34682  ...          2       2021         0\n",
              "3   4  77117.50  44514.90373  ...          2       2021         0\n",
              "4   5  77120.00  44516.34682  ...          2       2021         0\n",
              "5   6  77122.25  44517.64560  ...          2       2021         0\n",
              "6   7  77120.00  44516.34682  ...          2       2021         0\n",
              "\n",
              "[7 rows x 79 columns]"
            ]
          },
          "metadata": {
            "tags": []
          },
          "execution_count": 3
        }
      ]
    },
    {
      "cell_type": "code",
      "metadata": {
        "colab": {
          "base_uri": "https://localhost:8080/"
        },
        "id": "-3U3HkTNGbZt",
        "outputId": "dad88a60-1c0b-4a9b-ee44-c1d755ff23a9"
      },
      "source": [
        "df.shape"
      ],
      "execution_count": null,
      "outputs": [
        {
          "output_type": "execute_result",
          "data": {
            "text/plain": [
              "(2500, 79)"
            ]
          },
          "metadata": {
            "tags": []
          },
          "execution_count": 4
        }
      ]
    },
    {
      "cell_type": "code",
      "metadata": {
        "id": "x8sFr8E9Gv-6"
      },
      "source": [
        "df=df.dropna(axis=1)"
      ],
      "execution_count": null,
      "outputs": []
    },
    {
      "cell_type": "code",
      "metadata": {
        "colab": {
          "base_uri": "https://localhost:8080/"
        },
        "id": "996xgaNhGxUI",
        "outputId": "90479a4e-2cce-4880-ef15-bd779a0bb87c"
      },
      "source": [
        "df.shape"
      ],
      "execution_count": null,
      "outputs": [
        {
          "output_type": "execute_result",
          "data": {
            "text/plain": [
              "(2500, 79)"
            ]
          },
          "metadata": {
            "tags": []
          },
          "execution_count": 6
        }
      ]
    },
    {
      "cell_type": "code",
      "metadata": {
        "colab": {
          "base_uri": "https://localhost:8080/"
        },
        "id": "Lyj_KE9lGzgt",
        "outputId": "350b3ac5-a18b-4f0f-c086-8c02158b3719"
      },
      "source": [
        "df['Category'].value_counts()"
      ],
      "execution_count": null,
      "outputs": [
        {
          "output_type": "execute_result",
          "data": {
            "text/plain": [
              "0    1710\n",
              "1     790\n",
              "Name: Category, dtype: int64"
            ]
          },
          "metadata": {
            "tags": []
          },
          "execution_count": 7
        }
      ]
    },
    {
      "cell_type": "code",
      "metadata": {
        "colab": {
          "base_uri": "https://localhost:8080/",
          "height": 350
        },
        "id": "eyUg_m8QG1-5",
        "outputId": "3a71833a-72a4-4e0c-fa19-4c790522d5b5"
      },
      "source": [
        "#Visualize the count\n",
        "sns.countplot(df['Category'], label='count')"
      ],
      "execution_count": null,
      "outputs": [
        {
          "output_type": "stream",
          "text": [
            "/usr/local/lib/python3.7/dist-packages/seaborn/_decorators.py:43: FutureWarning: Pass the following variable as a keyword arg: x. From version 0.12, the only valid positional argument will be `data`, and passing other arguments without an explicit keyword will result in an error or misinterpretation.\n",
            "  FutureWarning\n"
          ],
          "name": "stderr"
        },
        {
          "output_type": "execute_result",
          "data": {
            "text/plain": [
              "<matplotlib.axes._subplots.AxesSubplot at 0x7fc3716e5a10>"
            ]
          },
          "metadata": {
            "tags": []
          },
          "execution_count": 9
        },
        {
          "output_type": "display_data",
          "data": {
            "image/png": "[encoded data removed]",
            "text/plain": [
              "<Figure size 432x288 with 1 Axes>"
            ]
          },
          "metadata": {
            "tags": [],
            "needs_background": "light"
          }
        }
      ]
    },
    {
      "cell_type": "code",
      "metadata": {
        "colab": {
          "base_uri": "https://localhost:8080/"
        },
        "id": "oMj3kgxuIlZ5",
        "outputId": "95375a53-b005-40e6-e6c6-2ea5c7b8b2d9"
      },
      "source": [
        "#Check the data type\n",
        "df.dtypes"
      ],
      "execution_count": null,
      "outputs": [
        {
          "output_type": "execute_result",
          "data": {
            "text/plain": [
              "Id             int64\n",
              "Column_1     float64\n",
              "Column_2     float64\n",
              "Column_3     float64\n",
              "Column_4     float64\n",
              "              ...   \n",
              "Column_74      int64\n",
              "Column_75      int64\n",
              "Column_76      int64\n",
              "Column_77      int64\n",
              "Category       int64\n",
              "Length: 79, dtype: object"
            ]
          },
          "metadata": {
            "tags": []
          },
          "execution_count": 10
        }
      ]
    },
    {
      "cell_type": "code",
      "metadata": {
        "id": "La0_6FHbIwtM"
      },
      "source": [
        "#Encode the data categories data values\n",
        "from sklearn.preprocessing import LabelEncoder\n",
        "labelencoder_Y = LabelEncoder()\n",
        "df.iloc[:,78] = labelencoder_Y.fit_transform(df.iloc[:,78].values)"
      ],
      "execution_count": null,
      "outputs": []
    },
    {
      "cell_type": "code",
      "metadata": {
        "colab": {
          "base_uri": "https://localhost:8080/",
          "height": 771
        },
        "id": "jbXopUYKI6Vn",
        "outputId": "b1595892-16a8-4b8b-d18e-9da2cba4bffe"
      },
      "source": [
        "#Create a pair plot\n",
        "sns.pairplot(df.iloc[:,75:79], hue='Category')"
      ],
      "execution_count": null,
      "outputs": [
        {
          "output_type": "stream",
          "text": [
            "/usr/local/lib/python3.7/dist-packages/seaborn/distributions.py:306: UserWarning: Dataset has 0 variance; skipping density estimate.\n",
            "  warnings.warn(msg, UserWarning)\n",
            "/usr/local/lib/python3.7/dist-packages/seaborn/distributions.py:306: UserWarning: Dataset has 0 variance; skipping density estimate.\n",
            "  warnings.warn(msg, UserWarning)\n",
            "/usr/local/lib/python3.7/dist-packages/seaborn/distributions.py:306: UserWarning: Dataset has 0 variance; skipping density estimate.\n",
            "  warnings.warn(msg, UserWarning)\n",
            "/usr/local/lib/python3.7/dist-packages/seaborn/distributions.py:306: UserWarning: Dataset has 0 variance; skipping density estimate.\n",
            "  warnings.warn(msg, UserWarning)\n",
            "/usr/local/lib/python3.7/dist-packages/seaborn/distributions.py:306: UserWarning: Dataset has 0 variance; skipping density estimate.\n",
            "  warnings.warn(msg, UserWarning)\n",
            "/usr/local/lib/python3.7/dist-packages/seaborn/distributions.py:306: UserWarning: Dataset has 0 variance; skipping density estimate.\n",
            "  warnings.warn(msg, UserWarning)\n"
          ],
          "name": "stderr"
        },
        {
          "output_type": "execute_result",
          "data": {
            "text/plain": [
              "<seaborn.axisgrid.PairGrid at 0x7fc36f088f90>"
            ]
          },
          "metadata": {
            "tags": []
          },
          "execution_count": 37
        },
        {
          "output_type": "display_data",
          "data": {
            "image/png": "[encoded data removed]",
            "text/plain": [
              "<Figure size 593.375x540 with 12 Axes>"
            ]
          },
          "metadata": {
            "tags": [],
            "needs_background": "light"
          }
        }
      ]
    },
    {
      "cell_type": "code",
      "metadata": {
        "colab": {
          "base_uri": "https://localhost:8080/",
          "height": 390
        },
        "id": "17KTIMDIKgzh",
        "outputId": "f60cdcf6-a8af-411c-fb5a-eae3b4df725f"
      },
      "source": [
        "#Get the correelation of the columns\n",
        "df.iloc[:,68:79].corr()"
      ],
      "execution_count": null,
      "outputs": [
        {
          "output_type": "execute_result",
          "data": {
            "text/html": [
              "<div>\n",
              "<style scoped>\n",
              "    .dataframe tbody tr th:only-of-type {\n",
              "        vertical-align: middle;\n",
              "    }\n",
              "\n",
              "    .dataframe tbody tr th {\n",
              "        vertical-align: top;\n",
              "    }\n",
              "\n",
              "    .dataframe thead th {\n",
              "        text-align: right;\n",
              "    }\n",
              "</style>\n",
              "<table border=\"1\" class=\"dataframe\">\n",
              "  <thead>\n",
              "    <tr style=\"text-align: right;\">\n",
              "      <th></th>\n",
              "      <th>Column_68</th>\n",
              "      <th>Column_69</th>\n",
              "      <th>Column_70</th>\n",
              "      <th>Column_71</th>\n",
              "      <th>Column_72</th>\n",
              "      <th>Column_73</th>\n",
              "      <th>Column_74</th>\n",
              "      <th>Column_75</th>\n",
              "      <th>Column_76</th>\n",
              "      <th>Column_77</th>\n",
              "      <th>Category</th>\n",
              "    </tr>\n",
              "  </thead>\n",
              "  <tbody>\n",
              "    <tr>\n",
              "      <th>Column_68</th>\n",
              "      <td>1.000000</td>\n",
              "      <td>NaN</td>\n",
              "      <td>NaN</td>\n",
              "      <td>NaN</td>\n",
              "      <td>NaN</td>\n",
              "      <td>-0.067458</td>\n",
              "      <td>0.999950</td>\n",
              "      <td>NaN</td>\n",
              "      <td>NaN</td>\n",
              "      <td>NaN</td>\n",
              "      <td>0.019966</td>\n",
              "    </tr>\n",
              "    <tr>\n",
              "      <th>Column_69</th>\n",
              "      <td>NaN</td>\n",
              "      <td>NaN</td>\n",
              "      <td>NaN</td>\n",
              "      <td>NaN</td>\n",
              "      <td>NaN</td>\n",
              "      <td>NaN</td>\n",
              "      <td>NaN</td>\n",
              "      <td>NaN</td>\n",
              "      <td>NaN</td>\n",
              "      <td>NaN</td>\n",
              "      <td>NaN</td>\n",
              "    </tr>\n",
              "    <tr>\n",
              "      <th>Column_70</th>\n",
              "      <td>NaN</td>\n",
              "      <td>NaN</td>\n",
              "      <td>NaN</td>\n",
              "      <td>NaN</td>\n",
              "      <td>NaN</td>\n",
              "      <td>NaN</td>\n",
              "      <td>NaN</td>\n",
              "      <td>NaN</td>\n",
              "      <td>NaN</td>\n",
              "      <td>NaN</td>\n",
              "      <td>NaN</td>\n",
              "    </tr>\n",
              "    <tr>\n",
              "      <th>Column_71</th>\n",
              "      <td>NaN</td>\n",
              "      <td>NaN</td>\n",
              "      <td>NaN</td>\n",
              "      <td>NaN</td>\n",
              "      <td>NaN</td>\n",
              "      <td>NaN</td>\n",
              "      <td>NaN</td>\n",
              "      <td>NaN</td>\n",
              "      <td>NaN</td>\n",
              "      <td>NaN</td>\n",
              "      <td>NaN</td>\n",
              "    </tr>\n",
              "    <tr>\n",
              "      <th>Column_72</th>\n",
              "      <td>NaN</td>\n",
              "      <td>NaN</td>\n",
              "      <td>NaN</td>\n",
              "      <td>NaN</td>\n",
              "      <td>NaN</td>\n",
              "      <td>NaN</td>\n",
              "      <td>NaN</td>\n",
              "      <td>NaN</td>\n",
              "      <td>NaN</td>\n",
              "      <td>NaN</td>\n",
              "      <td>NaN</td>\n",
              "    </tr>\n",
              "    <tr>\n",
              "      <th>Column_73</th>\n",
              "      <td>-0.067458</td>\n",
              "      <td>NaN</td>\n",
              "      <td>NaN</td>\n",
              "      <td>NaN</td>\n",
              "      <td>NaN</td>\n",
              "      <td>1.000000</td>\n",
              "      <td>-0.067604</td>\n",
              "      <td>NaN</td>\n",
              "      <td>NaN</td>\n",
              "      <td>NaN</td>\n",
              "      <td>0.038299</td>\n",
              "    </tr>\n",
              "    <tr>\n",
              "      <th>Column_74</th>\n",
              "      <td>0.999950</td>\n",
              "      <td>NaN</td>\n",
              "      <td>NaN</td>\n",
              "      <td>NaN</td>\n",
              "      <td>NaN</td>\n",
              "      <td>-0.067604</td>\n",
              "      <td>1.000000</td>\n",
              "      <td>NaN</td>\n",
              "      <td>NaN</td>\n",
              "      <td>NaN</td>\n",
              "      <td>0.020471</td>\n",
              "    </tr>\n",
              "    <tr>\n",
              "      <th>Column_75</th>\n",
              "      <td>NaN</td>\n",
              "      <td>NaN</td>\n",
              "      <td>NaN</td>\n",
              "      <td>NaN</td>\n",
              "      <td>NaN</td>\n",
              "      <td>NaN</td>\n",
              "      <td>NaN</td>\n",
              "      <td>NaN</td>\n",
              "      <td>NaN</td>\n",
              "      <td>NaN</td>\n",
              "      <td>NaN</td>\n",
              "    </tr>\n",
              "    <tr>\n",
              "      <th>Column_76</th>\n",
              "      <td>NaN</td>\n",
              "      <td>NaN</td>\n",
              "      <td>NaN</td>\n",
              "      <td>NaN</td>\n",
              "      <td>NaN</td>\n",
              "      <td>NaN</td>\n",
              "      <td>NaN</td>\n",
              "      <td>NaN</td>\n",
              "      <td>NaN</td>\n",
              "      <td>NaN</td>\n",
              "      <td>NaN</td>\n",
              "    </tr>\n",
              "    <tr>\n",
              "      <th>Column_77</th>\n",
              "      <td>NaN</td>\n",
              "      <td>NaN</td>\n",
              "      <td>NaN</td>\n",
              "      <td>NaN</td>\n",
              "      <td>NaN</td>\n",
              "      <td>NaN</td>\n",
              "      <td>NaN</td>\n",
              "      <td>NaN</td>\n",
              "      <td>NaN</td>\n",
              "      <td>NaN</td>\n",
              "      <td>NaN</td>\n",
              "    </tr>\n",
              "    <tr>\n",
              "      <th>Category</th>\n",
              "      <td>0.019966</td>\n",
              "      <td>NaN</td>\n",
              "      <td>NaN</td>\n",
              "      <td>NaN</td>\n",
              "      <td>NaN</td>\n",
              "      <td>0.038299</td>\n",
              "      <td>0.020471</td>\n",
              "      <td>NaN</td>\n",
              "      <td>NaN</td>\n",
              "      <td>NaN</td>\n",
              "      <td>1.000000</td>\n",
              "    </tr>\n",
              "  </tbody>\n",
              "</table>\n",
              "</div>"
            ],
            "text/plain": [
              "           Column_68  Column_69  Column_70  ...  Column_76  Column_77  Category\n",
              "Column_68   1.000000        NaN        NaN  ...        NaN        NaN  0.019966\n",
              "Column_69        NaN        NaN        NaN  ...        NaN        NaN       NaN\n",
              "Column_70        NaN        NaN        NaN  ...        NaN        NaN       NaN\n",
              "Column_71        NaN        NaN        NaN  ...        NaN        NaN       NaN\n",
              "Column_72        NaN        NaN        NaN  ...        NaN        NaN       NaN\n",
              "Column_73  -0.067458        NaN        NaN  ...        NaN        NaN  0.038299\n",
              "Column_74   0.999950        NaN        NaN  ...        NaN        NaN  0.020471\n",
              "Column_75        NaN        NaN        NaN  ...        NaN        NaN       NaN\n",
              "Column_76        NaN        NaN        NaN  ...        NaN        NaN       NaN\n",
              "Column_77        NaN        NaN        NaN  ...        NaN        NaN       NaN\n",
              "Category    0.019966        NaN        NaN  ...        NaN        NaN  1.000000\n",
              "\n",
              "[11 rows x 11 columns]"
            ]
          },
          "metadata": {
            "tags": []
          },
          "execution_count": 38
        }
      ]
    },
    {
      "cell_type": "code",
      "metadata": {
        "colab": {
          "base_uri": "https://localhost:8080/",
          "height": 658
        },
        "id": "IE4YoYcwOVLg",
        "outputId": "214271fb-1b39-44d1-d83d-16ca4018c352"
      },
      "source": [
        "#Visualize the correlation\n",
        "plt.figure(figsize=(10,10))\n",
        "sns.heatmap(df.iloc[:,68:79].corr(), annot=True , fmt='.0%')"
      ],
      "execution_count": null,
      "outputs": [
        {
          "output_type": "execute_result",
          "data": {
            "text/plain": [
              "<matplotlib.axes._subplots.AxesSubplot at 0x7fc36663d550>"
            ]
          },
          "metadata": {
            "tags": []
          },
          "execution_count": 39
        },
        {
          "output_type": "display_data",
          "data": {
            "image/png": "[encoded data removed]",
            "text/plain": [
              "<Figure size 720x720 with 2 Axes>"
            ]
          },
          "metadata": {
            "tags": [],
            "needs_background": "light"
          }
        }
      ]
    },
    {
      "cell_type": "code",
      "metadata": {
        "id": "j0m_Q5mTOkYD"
      },
      "source": [
        " X = df.iloc[:,1:78].values\n",
        " Y = df.iloc[:,78].values"
      ],
      "execution_count": null,
      "outputs": []
    },
    {
      "cell_type": "code",
      "metadata": {
        "id": "PuFquOdBOp3c"
      },
      "source": [
        "#Split the data set in to 75% training and 25% testing\n",
        "from sklearn.model_selection import train_test_split\n",
        "X_train,X_test,Y_train,Y_test = train_test_split(X,Y, test_size=0.25, random_state = 0)"
      ],
      "execution_count": null,
      "outputs": []
    },
    {
      "cell_type": "code",
      "metadata": {
        "id": "FQTzdcqvOvLc"
      },
      "source": [
        "#Scale the data (Feature scaling)\n",
        "from sklearn.preprocessing import StandardScaler\n",
        "sc = StandardScaler()\n",
        "X_train = sc.fit_transform(X_train)\n",
        "X_test = sc.fit_transform(X_test)\n"
      ],
      "execution_count": null,
      "outputs": []
    },
    {
      "cell_type": "code",
      "metadata": {
        "id": "2qpcb0ZVO0pv"
      },
      "source": [
        "#Create a function for the models\n",
        "def models(X_train,Y_train):\n",
        "  \n",
        "  #Logistic Regression\n",
        "  from sklearn.linear_model import LogisticRegression\n",
        "  log = LogisticRegression(random_state=0)\n",
        "  log.fit(X_train,Y_train)\n",
        "\n",
        "  #Decision Tree\n",
        "  from sklearn.tree import DecisionTreeClassifier\n",
        "  tree= DecisionTreeClassifier(criterion = 'entropy', random_state=0)\n",
        "  tree.fit(X_train,Y_train)\n",
        "\n",
        "  #Random Forest Classifier\n",
        "  from sklearn.ensemble import RandomForestClassifier\n",
        "  forest  = RandomForestClassifier(n_estimators= 10, criterion = 'entropy', random_state=0)\n",
        "  forest.fit(X_train,Y_train)\n",
        "\n",
        "  #Print the modles accuracy on the training data\n",
        "  print('[0]Logistic Regression Training Accuracy:' , log.score(X_train,Y_train))\n",
        "  print('[1]Decision Tree Training Accuracy:' , tree.score(X_train,Y_train))\n",
        "  print('[2]Random Forest Training Accuracy:' , forest.score(X_train,Y_train))\n",
        "\n",
        "  return log,tree, forest"
      ],
      "execution_count": null,
      "outputs": []
    },
    {
      "cell_type": "code",
      "metadata": {
        "colab": {
          "base_uri": "https://localhost:8080/"
        },
        "id": "rJ_9WNQ3O6rc",
        "outputId": "a3bc8cbd-27be-4ee0-c36f-e7439ed6db25"
      },
      "source": [
        "#Getting all of the models\n",
        "models = models(X_train,Y_train)"
      ],
      "execution_count": null,
      "outputs": [
        {
          "output_type": "stream",
          "text": [
            "/usr/local/lib/python3.7/dist-packages/sklearn/linear_model/_logistic.py:940: ConvergenceWarning: lbfgs failed to converge (status=1):\n",
            "STOP: TOTAL NO. of ITERATIONS REACHED LIMIT.\n",
            "\n",
            "Increase the number of iterations (max_iter) or scale the data as shown in:\n",
            "    https://scikit-learn.org/stable/modules/preprocessing.html\n",
            "Please also refer to the documentation for alternative solver options:\n",
            "    https://scikit-learn.org/stable/modules/linear_model.html#logistic-regression\n",
            "  extra_warning_msg=_LOGISTIC_SOLVER_CONVERGENCE_MSG)\n"
          ],
          "name": "stderr"
        },
        {
          "output_type": "stream",
          "text": [
            "[0]Logistic Regression Training Accuracy: 0.7061333333333333\n",
            "[1]Decision Tree Training Accuracy: 1.0\n",
            "[2]Random Forest Training Accuracy: 0.9776\n"
          ],
          "name": "stdout"
        }
      ]
    },
    {
      "cell_type": "code",
      "metadata": {
        "colab": {
          "base_uri": "https://localhost:8080/"
        },
        "id": "BbB9LIy0PDsl",
        "outputId": "e3374992-59c4-43f5-d928-ac18bc34b34e"
      },
      "source": [
        "#Test models accuracy on test data on confution matrix\n",
        "from sklearn.metrics import confusion_matrix\n",
        "\n",
        "for i in range( len(models) ):\n",
        "  print('Model',i)\n",
        "  cm  =confusion_matrix(Y_test,models[i].predict(X_test))\n",
        "\n",
        "  TP = cm[0][0]\n",
        "  TN = cm[1][1]\n",
        "  FN = cm[1][0]\n",
        "  FP = cm[0][1]\n",
        "\n",
        "  print(cm)\n",
        "  print('Testing Accuracy =', (TP+TN)/(TP+TN+FN+FP))"
      ],
      "execution_count": null,
      "outputs": [
        {
          "output_type": "stream",
          "text": [
            "Model 0\n",
            "[[337 101]\n",
            " [113  74]]\n",
            "Testing Accuracy = 0.6576\n",
            "Model 1\n",
            "[[280 158]\n",
            " [111  76]]\n",
            "Testing Accuracy = 0.5696\n",
            "Model 2\n",
            "[[353  85]\n",
            " [127  60]]\n",
            "Testing Accuracy = 0.6608\n"
          ],
          "name": "stdout"
        }
      ]
    },
    {
      "cell_type": "code",
      "metadata": {
        "colab": {
          "base_uri": "https://localhost:8080/"
        },
        "id": "4jqUk80tPNv9",
        "outputId": "e56e2d69-2541-44e4-cae3-465df339381e"
      },
      "source": [
        "#Show another way to get matrics of the modles\n",
        "from sklearn.metrics import classification_report\n",
        "from sklearn.metrics import accuracy_score\n",
        "\n",
        "for i in range( len(models) ):\n",
        "  print('Model',i)\n",
        "  print( classification_report(Y_test,models[i].predict(X_test)))\n",
        "  print (accuracy_score(Y_test,models[i].predict(X_test)))\n",
        "  print()"
      ],
      "execution_count": null,
      "outputs": [
        {
          "output_type": "stream",
          "text": [
            "Model 0\n",
            "              precision    recall  f1-score   support\n",
            "\n",
            "           0       0.75      0.77      0.76       438\n",
            "           1       0.42      0.40      0.41       187\n",
            "\n",
            "    accuracy                           0.66       625\n",
            "   macro avg       0.59      0.58      0.58       625\n",
            "weighted avg       0.65      0.66      0.65       625\n",
            "\n",
            "0.6576\n",
            "\n",
            "Model 1\n",
            "              precision    recall  f1-score   support\n",
            "\n",
            "           0       0.72      0.64      0.68       438\n",
            "           1       0.32      0.41      0.36       187\n",
            "\n",
            "    accuracy                           0.57       625\n",
            "   macro avg       0.52      0.52      0.52       625\n",
            "weighted avg       0.60      0.57      0.58       625\n",
            "\n",
            "0.5696\n",
            "\n",
            "Model 2\n",
            "              precision    recall  f1-score   support\n",
            "\n",
            "           0       0.74      0.81      0.77       438\n",
            "           1       0.41      0.32      0.36       187\n",
            "\n",
            "    accuracy                           0.66       625\n",
            "   macro avg       0.57      0.56      0.57       625\n",
            "weighted avg       0.64      0.66      0.65       625\n",
            "\n",
            "0.6608\n",
            "\n"
          ],
          "name": "stdout"
        }
      ]
    },
    {
      "cell_type": "code",
      "metadata": {
        "colab": {
          "base_uri": "https://localhost:8080/"
        },
        "id": "MBqJNdOFPUdi",
        "outputId": "3d540efc-8656-4395-e55b-d148ae9fe4b6"
      },
      "source": [
        "#Print the prediction of Random Forest Classifier MOdel\n",
        "pred = models[2].predict(X_test)\n",
        "print(pred)\n",
        "print()\n",
        "print(Y_test)"
      ],
      "execution_count": null,
      "outputs": [
        {
          "output_type": "stream",
          "text": [
            "[0 0 0 1 0 0 0 0 0 1 0 0 0 0 1 0 1 0 1 0 1 1 0 0 0 0 0 0 0 1 0 1 0 0 0 0 0\n",
            " 0 0 0 0 0 1 0 1 0 0 0 1 0 0 0 0 0 0 0 0 0 1 1 0 1 0 0 1 0 0 0 0 0 0 0 1 0\n",
            " 0 0 0 0 1 0 0 1 1 0 0 0 0 0 0 1 0 0 1 1 0 0 0 0 0 0 0 0 1 0 1 0 1 0 0 0 1\n",
            " 1 1 0 1 0 0 0 1 0 0 0 0 0 0 0 0 1 0 0 0 1 0 0 0 0 0 0 0 0 0 0 0 0 0 0 0 1\n",
            " 0 0 0 0 0 1 0 0 0 1 1 0 1 0 0 0 0 1 1 0 0 1 1 0 0 0 0 0 1 1 1 1 0 0 1 0 1\n",
            " 0 0 0 1 0 1 0 0 0 1 0 0 0 0 0 0 0 0 0 0 0 0 0 0 0 0 0 1 0 1 0 0 0 0 0 0 0\n",
            " 0 0 0 0 0 0 0 1 1 1 0 0 0 0 0 0 0 0 0 0 0 0 0 0 1 0 0 1 0 0 0 0 0 0 0 1 0\n",
            " 0 0 0 0 1 0 0 1 0 0 1 0 1 0 1 0 0 0 0 0 0 0 0 1 1 0 0 1 0 0 0 0 1 1 0 0 0\n",
            " 0 0 0 1 1 0 1 1 0 1 0 1 0 1 0 0 0 0 1 0 1 0 0 0 1 0 1 0 0 1 0 0 0 0 0 1 0\n",
            " 0 1 0 0 0 1 0 0 0 0 0 1 0 0 0 0 0 0 0 0 0 0 0 0 0 0 0 1 0 0 0 1 0 0 0 0 0\n",
            " 0 0 0 1 0 0 0 0 1 0 0 1 0 0 0 0 1 0 0 0 0 1 0 0 0 0 0 0 0 0 0 0 0 0 1 0 1\n",
            " 0 1 0 1 0 0 1 0 0 0 0 0 0 0 0 1 0 0 1 1 0 0 0 0 0 1 0 0 0 0 0 0 0 0 0 0 0\n",
            " 0 0 1 1 0 0 1 0 0 0 0 0 0 1 0 1 0 0 0 0 0 0 0 0 0 0 0 0 1 0 1 0 0 0 0 0 0\n",
            " 0 0 1 0 0 0 0 0 0 1 0 0 1 0 0 0 0 0 1 0 1 0 1 0 0 0 0 0 1 0 0 0 0 0 0 1 1\n",
            " 1 1 0 1 0 0 1 1 0 0 0 0 0 1 0 0 0 0 0 0 0 0 0 0 0 1 0 0 1 0 0 1 0 0 0 0 0\n",
            " 0 0 0 0 0 0 0 0 1 0 1 1 0 0 1 0 0 0 1 1 0 0 0 0 0 0 0 0 1 1 0 0 0 0 0 0 0\n",
            " 0 0 0 1 0 1 0 1 1 0 1 0 0 0 0 0 1 1 0 0 0 0 1 1 0 0 0 0 0 1 1 0 0]\n",
            "\n",
            "[0 0 0 1 1 0 0 0 1 0 0 0 0 0 0 0 0 1 0 0 1 1 1 0 0 0 1 1 1 1 0 0 0 0 0 0 0\n",
            " 0 0 0 0 0 1 0 1 0 0 0 0 0 0 1 1 1 1 1 0 1 1 0 0 0 0 0 0 1 1 0 0 0 0 1 0 1\n",
            " 1 0 0 1 0 0 0 1 1 0 1 1 0 0 0 0 0 0 1 1 0 0 0 0 1 1 0 1 0 0 1 0 0 0 0 0 0\n",
            " 0 0 0 0 0 0 1 0 0 0 1 0 0 0 1 0 0 0 0 0 0 0 0 0 0 1 0 1 0 0 0 0 1 1 0 1 0\n",
            " 1 0 1 0 1 1 0 0 1 1 0 0 0 0 1 0 0 1 0 0 1 1 1 0 0 0 0 0 1 1 1 1 0 0 0 0 0\n",
            " 1 0 1 1 0 0 0 1 1 1 0 0 0 0 1 1 0 0 0 1 0 0 0 1 0 1 0 1 0 0 0 0 0 0 0 1 0\n",
            " 0 0 0 0 0 0 0 1 0 0 1 1 0 0 0 0 0 0 0 0 0 1 1 1 1 0 0 1 0 0 0 0 0 0 0 0 0\n",
            " 0 0 1 0 0 0 0 0 0 0 0 0 1 1 1 0 0 0 1 0 0 0 1 1 1 1 0 0 0 0 0 0 0 0 0 0 0\n",
            " 0 1 1 0 1 0 0 0 0 1 0 0 1 1 0 1 0 0 0 0 0 0 1 0 0 0 0 0 0 1 0 1 0 0 0 0 0\n",
            " 0 0 0 1 0 0 0 0 0 0 0 0 0 0 0 0 0 1 0 1 0 1 0 1 0 0 0 1 0 0 0 1 0 0 1 0 1\n",
            " 1 0 0 0 0 0 0 1 0 1 1 1 0 0 0 1 0 0 0 0 1 1 0 0 0 0 0 0 0 1 0 0 0 0 0 0 0\n",
            " 0 1 0 1 0 0 0 0 0 1 0 0 0 0 1 0 0 0 0 1 0 0 0 0 0 0 0 0 0 0 0 1 0 0 0 1 0\n",
            " 1 1 1 0 0 1 0 0 0 0 1 0 0 0 0 1 1 1 0 0 0 1 0 0 0 1 1 0 0 0 0 0 1 0 0 1 1\n",
            " 0 0 0 0 0 0 1 0 0 1 1 0 0 0 0 0 0 0 0 0 0 0 1 0 1 0 0 0 0 0 0 0 1 0 0 1 1\n",
            " 0 0 1 1 1 0 0 0 0 0 0 0 0 1 1 1 0 0 1 0 0 1 0 1 0 0 0 0 0 0 0 1 0 1 0 0 0\n",
            " 1 0 0 0 1 0 1 1 1 0 0 1 1 0 1 0 0 1 0 1 0 0 1 0 1 1 1 0 0 0 1 0 0 0 0 0 1\n",
            " 1 0 1 0 1 1 1 0 0 0 1 1 1 0 1 0 0 0 0 0 0 0 1 1 1 0 0 0 1 1 0 0 0]\n"
          ],
          "name": "stdout"
        }
      ]
    },
    {
      "cell_type": "code",
      "metadata": {
        "colab": {
          "base_uri": "https://localhost:8080/"
        },
        "id": "rD7MD9NsPejb",
        "outputId": "549b6eec-2cc6-49da-d31a-cc436d964daa"
      },
      "source": [
        "  from sklearn.metrics import confusion_matrix\n",
        "  \n",
        "  cm  =confusion_matrix(Y_test,models[2].predict(X_test))\n",
        "\n",
        "  TP = cm[0][0]\n",
        "  TN = cm[1][1]\n",
        "  FN = cm[1][0]\n",
        "  FP = cm[0][1]\n",
        "\n",
        "  print('Testing Accuracy =', (TP+TN)/(TP+TN+FN+FP))"
      ],
      "execution_count": null,
      "outputs": [
        {
          "output_type": "stream",
          "text": [
            "Testing Accuracy = 0.6608\n"
          ],
          "name": "stdout"
        }
      ]
    }
  ]
}