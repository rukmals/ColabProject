{
  "nbformat": 4,
  "nbformat_minor": 0,
  "metadata": {
    "colab": {
      "name": "tensorflow_concatenate.ipynb",
      "provenance": [],
      "authorship_tag": "ABX9TyPRcAuFxAmqRLLTcFbkXunO",
      "include_colab_link": true
    },
    "kernelspec": {
      "name": "python3",
      "display_name": "Python 3"
    },
    "language_info": {
      "name": "python"
    }
  },
  "cells": [
    {
      "cell_type": "markdown",
      "metadata": {
        "id": "view-in-github",
        "colab_type": "text"
      },
      "source": [
        "<a href=\"https://colab.research.google.com/github/rukmals/ColabProject/blob/master/tensorflow_concatenate.ipynb\" target=\"_parent\"><img src=\"https://colab.research.google.com/assets/colab-badge.svg\" alt=\"Open In Colab\"/></a>"
      ]
    },
    {
      "cell_type": "code",
      "metadata": {
        "id": "0ZqfLE41G2bx"
      },
      "source": [
        "import numpy as np\n",
        "import tensorflow as tf\n",
        "from tensorflow.python.keras.layers import Input, Concatenate, ZeroPadding2D\n",
        "\n",
        "\n",
        "batch_dim = 32\n",
        "x1 = np.random.uniform(0,1, (batch_dim, 10,10,192)).astype('float32')\n",
        "x2 = np.random.uniform(0,1, (batch_dim, 21,21,64)).astype('float32')\n",
        "\n",
        "merged_tensors = Concatenate(axis=-1)([ZeroPadding2D(((6,5),(6,5)))(x1), x2])"
      ],
      "execution_count": 7,
      "outputs": []
    },
    {
      "cell_type": "code",
      "metadata": {
        "colab": {
          "base_uri": "https://localhost:8080/"
        },
        "id": "w0TJGVs7HOw9",
        "outputId": "bc0f9b30-225e-4ab0-9d06-8a4b9d869cac"
      },
      "source": [
        "ZeroPadding2D(((6,5),(6,5)))"
      ],
      "execution_count": 6,
      "outputs": [
        {
          "output_type": "execute_result",
          "data": {
            "text/plain": [
              "<tensorflow.python.keras.layers.convolutional.ZeroPadding2D at 0x7f8c622a0190>"
            ]
          },
          "metadata": {
            "tags": []
          },
          "execution_count": 6
        }
      ]
    },
    {
      "cell_type": "code",
      "metadata": {
        "id": "CX-9TPjQIZyX"
      },
      "source": [
        ""
      ],
      "execution_count": null,
      "outputs": []
    }
  ]
}