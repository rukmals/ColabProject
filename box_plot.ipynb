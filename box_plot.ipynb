{
  "nbformat": 4,
  "nbformat_minor": 0,
  "metadata": {
    "colab": {
      "name": "box plot.ipynb",
      "provenance": [],
      "authorship_tag": "ABX9TyNTCeks7C41itspaF+gEe7X",
      "include_colab_link": true
    },
    "kernelspec": {
      "name": "python3",
      "display_name": "Python 3"
    },
    "language_info": {
      "name": "python"
    }
  },
  "cells": [
    {
      "cell_type": "markdown",
      "metadata": {
        "id": "view-in-github",
        "colab_type": "text"
      },
      "source": [
        "<a href=\"https://colab.research.google.com/github/rukmals/ColabProject/blob/master/box_plot.ipynb\" target=\"_parent\"><img src=\"https://colab.research.google.com/assets/colab-badge.svg\" alt=\"Open In Colab\"/></a>"
      ]
    },
    {
      "cell_type": "code",
      "metadata": {
        "colab": {
          "base_uri": "https://localhost:8080/",
          "height": 341
        },
        "id": "yffXpGhQgZje",
        "outputId": "043d6d06-e2d5-4ebe-d437-a35eede749d6"
      },
      "source": [
        "from scipy.integrate import quad\n",
        "import numpy as np\n",
        "import matplotlib.pyplot as plt\n",
        "%matplotlib inline\n",
        "x = np.linspace(-4, 4, num = 100)\n",
        "constant = 1.0 / np.sqrt(2*np.pi)\n",
        "pdf_normal_distribution = constant * np.exp((-x**2) / 2.0)\n",
        "fig, ax = plt.subplots(figsize=(10, 5));\n",
        "ax.plot(x, pdf_normal_distribution);\n",
        "ax.set_ylim(0);\n",
        "ax.set_title('Normal Distribution', size = 20);\n",
        "ax.set_ylabel('Probability Density', size = 20);"
      ],
      "execution_count": 2,
      "outputs": [
        {
          "output_type": "display_data",
          "data": {
            "image/png": "[encoded data removed]",
            "text/plain": [
              "<Figure size 720x360 with 1 Axes>"
            ]
          },
          "metadata": {
            "tags": [],
            "needs_background": "light"
          }
        }
      ]
    },
    {
      "cell_type": "code",
      "metadata": {
        "colab": {
          "base_uri": "https://localhost:8080/"
        },
        "id": "QjFCzIjDgbAf",
        "outputId": "e033bc6c-045b-44b8-ea98-9d02c57fcffd"
      },
      "source": [
        "# Make PDF for the normal distribution a function\n",
        "def normalProbabilityDensity(x):\n",
        "    constant = 1.0 / np.sqrt(2*np.pi)\n",
        "    return(constant * np.exp((-x**2) / 2.0) )\n",
        "# Integrate PDF from -.6745 to .6745\n",
        "result_50p, _ = quad(normalProbabilityDensity, -.6745, .6745, limit = 1000)\n",
        "print(result_50p)"
      ],
      "execution_count": 3,
      "outputs": [
        {
          "output_type": "stream",
          "text": [
            "0.5000065142726018\n"
          ],
          "name": "stdout"
        }
      ]
    },
    {
      "cell_type": "code",
      "metadata": {
        "colab": {
          "base_uri": "https://localhost:8080/"
        },
        "id": "ebwlTwVPhqRn",
        "outputId": "0b606f6f-4df8-4fd6-e363-e28ef8e9e048"
      },
      "source": [
        "# Make a PDF for the normal distribution a function\n",
        "def normalProbabilityDensity(x):\n",
        "    constant = 1.0 / np.sqrt(2*np.pi)\n",
        "    return(constant * np.exp((-x**2) / 2.0) )\n",
        "# Integrate PDF from -2.698 to 2.698\n",
        "result_99_3p, _ = quad(normalProbabilityDensity,\n",
        "                     -2.698,\n",
        "                     2.698,\n",
        "                     limit = 1000)\n",
        "print(result_99_3p)"
      ],
      "execution_count": 4,
      "outputs": [
        {
          "output_type": "stream",
          "text": [
            "0.9930242559336101\n"
          ],
          "name": "stdout"
        }
      ]
    },
    {
      "cell_type": "code",
      "metadata": {
        "colab": {
          "base_uri": "https://localhost:8080/"
        },
        "id": "keHLYr5Dhw4_",
        "outputId": "7e3ef28c-0516-4f05-e8e5-66affbcb70e2"
      },
      "source": [
        "# Make a PDF for the normal distribution a function\n",
        "def normalProbabilityDensity(x):\n",
        "    constant = 1.0 / np.sqrt(2*np.pi)\n",
        "    return(constant * np.exp((-x**2) / 2.0) )\n",
        "# Integrate PDF from -2.698 to 2.698\n",
        "result_99_3p, _ = quad(normalProbabilityDensity,\n",
        "                     -np.inf,\n",
        "                     np.inf,\n",
        "                     limit = 1000)\n",
        "print(result_99_3p)"
      ],
      "execution_count": 5,
      "outputs": [
        {
          "output_type": "stream",
          "text": [
            "0.9999999999999997\n"
          ],
          "name": "stdout"
        }
      ]
    },
    {
      "cell_type": "code",
      "metadata": {
        "id": "RjIn070AiIo0"
      },
      "source": [
        ""
      ],
      "execution_count": null,
      "outputs": []
    }
  ]
}