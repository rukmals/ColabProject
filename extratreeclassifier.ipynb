{
  "nbformat": 4,
  "nbformat_minor": 0,
  "metadata": {
    "colab": {
      "name": "extratreeclassifier.ipynb",
      "provenance": [],
      "authorship_tag": "ABX9TyNTHlsgVO5xWRPjS7FN7rRL",
      "include_colab_link": true
    },
    "kernelspec": {
      "name": "python3",
      "display_name": "Python 3"
    }
  },
  "cells": [
    {
      "cell_type": "markdown",
      "metadata": {
        "id": "view-in-github",
        "colab_type": "text"
      },
      "source": [
        "<a href=\"https://colab.research.google.com/github/rukmals/ColabProject/blob/master/extratreeclassifier.ipynb\" target=\"_parent\"><img src=\"https://colab.research.google.com/assets/colab-badge.svg\" alt=\"Open In Colab\"/></a>"
      ]
    },
    {
      "cell_type": "code",
      "metadata": {
        "id": "nw-5xJxVhYzE",
        "colab_type": "code",
        "colab": {}
      },
      "source": [
        "import tensorflow as tf\n",
        "import pandas as pd\n",
        "import numpy as np\n",
        "from sklearn.ensemble import ExtraTreesClassifier\n",
        "from sklearn.feature_selection import SelectFromModel\n",
        "from sklearn.model_selection import train_test_split\n",
        "from sklearn.model_selection import cross_validate"
      ],
      "execution_count": 0,
      "outputs": []
    },
    {
      "cell_type": "code",
      "metadata": {
        "id": "_LXf4IVRhm72",
        "colab_type": "code",
        "colab": {
          "base_uri": "https://localhost:8080/",
          "height": 34
        },
        "outputId": "63d52225-4a0e-4ae6-a078-e80ab82c7a56"
      },
      "source": [
        "malware = pd.read_csv('permission.csv')\n",
        "\n",
        "data_in = malware.drop(['android','type'],axis=1).values\n",
        "labels = malware['type'].values\n",
        "extratrees = ExtraTreesClassifier().fit(data_in,labels)\n",
        "select = SelectFromModel(extratrees,prefit=True)\n",
        "data_in_new = select.transform(data_in)\n",
        "print(data_in.shape,data_in_new.shape,malware['type'].values.shape)"
      ],
      "execution_count": 4,
      "outputs": [
        {
          "output_type": "stream",
          "text": [
            "(398, 329) (398, 38) (398,)\n"
          ],
          "name": "stdout"
        }
      ]
    },
    {
      "cell_type": "code",
      "metadata": {
        "id": "YrEDSj8Jhn7w",
        "colab_type": "code",
        "colab": {
          "base_uri": "https://localhost:8080/",
          "height": 663
        },
        "outputId": "e963721b-c59a-404d-aca0-3888aa235780"
      },
      "source": [
        "import numpy as np\n",
        "features = data_in_new.shape[1]\n",
        "importance = extratrees.feature_importances_\n",
        "indices = np.argsort(importance)[::-1]\n",
        "\n",
        "for f in range(features):\n",
        "    print(\"%d\"%(f+1),malware.columns[2+indices[f]],importance[indices[f]])"
      ],
      "execution_count": 15,
      "outputs": [
        {
          "output_type": "stream",
          "text": [
            "1 android.permission.READ_PRECISE_PHONE_STATE 0.18632463126468304\n",
            "2 android.permission.READ_SOCIAL_STREAM 0.0732861415169372\n",
            "3 android.permission.WRITE_SOCIAL_STREAM 0.06760923287175442\n",
            "4 android.permission.ACCESS_NOTIFICATIONS 0.05932343948675095\n",
            "5 android.permission.ACCESS_WIMAX_STATE 0.055944468183242474\n",
            "6 android.permission.CHANGE_WIMAX_STATE 0.05402629964015715\n",
            "7 android.permission.INVOKE_CARRIER_SETUP 0.04599466059463018\n",
            "8 android.permission.RECEIVE_DATA_ACTIVITY_CHANGE 0.0330447544283561\n",
            "9 android.permission.ACCESS_CONTENT_PROVIDERS_EXTERNALLY 0.028813016314629944\n",
            "10 android.permission.SERIAL_PORT 0.027465735939513423\n",
            "11 android.permission.INTERACT_ACROSS_USERS 0.027127786342600033\n",
            "12 android.permission.WRITE_GSERVICES 0.025039746370528183\n",
            "13 android.permission.RECEIVE_WAP_PUSH 0.02164432496257588\n",
            "14 android.permission.READ_DREAM_STATE 0.0196133739288375\n",
            "15 android.permission.WRITE_DREAM_STATE 0.018191657717215457\n",
            "16 android.permission.ACCESS_FM_RADIO 0.016610015474672897\n",
            "17 android.permission.WRITE_APN_SETTINGS 0.014633497405420269\n",
            "18 android.permission.GET_TOP_ACTIVITY_INFO 0.01377824485688472\n",
            "19 android.permission.CALL_PRIVILEGED 0.013059617157034237\n",
            "20 android.permission.RETRIEVE_WINDOW_CONTENT 0.01170794892925412\n",
            "21 android.permission.WAKE_LOCK 0.011658203661695805\n",
            "22 com.android.browser.permission.WRITE_HISTORY_BOOKMARKS 0.011306678192279136\n",
            "23 android.permission.WRITE_CALENDAR 0.010894593141223168\n",
            "24 android.permission.MOVE_PACKAGE 0.009699118694420488\n",
            "25 android.permission.GET_APP_OPS_STATS 0.009587065821788416\n",
            "26 android.permission.READ_NETWORK_USAGE_HISTORY 0.009237352243615533\n",
            "27 android.permission.DOWNLOAD_CACHE_NON_PURGEABLE 0.007641722233179101\n",
            "28 android.permission.SET_WALLPAPER_COMPONENT 0.007491244193964477\n",
            "29 android.permission.READ_FRAME_BUFFER 0.006403779077232688\n",
            "30 android.permission.ACCESS_MOCK_LOCATION 0.006357096553191815\n",
            "31 android.permission.DEVICE_POWER 0.004672082530065325\n",
            "32 com.android.certinstaller.INSTALL_AS_USER 0.004495413528269015\n",
            "33 android.permission.BLUETOOTH_ADMIN 0.004285185387387078\n",
            "34 android.permission.MODIFY_NETWORK_ACCOUNTING 0.00427506972237559\n",
            "35 android.permission.READ_CELL_BROADCASTS 0.003562764467644845\n",
            "36 android.permission.PROVIDE_TRUST_AGENT 0.0035153434787940823\n",
            "37 android.permission.CAMERA_DISABLE_TRANSMIT_LED 0.003380830195875872\n",
            "38 android.permission.WRITE_SMS 0.003098765358596851\n"
          ],
          "name": "stdout"
        }
      ]
    },
    {
      "cell_type": "code",
      "metadata": {
        "id": "CmE-tZpQhyQT",
        "colab_type": "code",
        "colab": {
          "base_uri": "https://localhost:8080/",
          "height": 153
        },
        "outputId": "42ff01c6-8531-4199-e477-052e9a850077"
      },
      "source": [
        "from sklearn.ensemble import RandomForestClassifier\n",
        "legit_train,legit_test,mal_train,mal_test = train_test_split(data_in_new,labels,test_size=0.2)\n",
        "classif = RandomForestClassifier(n_estimators=50)\n",
        "classif.fit(legit_train,mal_train)"
      ],
      "execution_count": 16,
      "outputs": [
        {
          "output_type": "execute_result",
          "data": {
            "text/plain": [
              "RandomForestClassifier(bootstrap=True, ccp_alpha=0.0, class_weight=None,\n",
              "                       criterion='gini', max_depth=None, max_features='auto',\n",
              "                       max_leaf_nodes=None, max_samples=None,\n",
              "                       min_impurity_decrease=0.0, min_impurity_split=None,\n",
              "                       min_samples_leaf=1, min_samples_split=2,\n",
              "                       min_weight_fraction_leaf=0.0, n_estimators=50,\n",
              "                       n_jobs=None, oob_score=False, random_state=None,\n",
              "                       verbose=0, warm_start=False)"
            ]
          },
          "metadata": {
            "tags": []
          },
          "execution_count": 16
        }
      ]
    },
    {
      "cell_type": "code",
      "metadata": {
        "id": "NtNthR-5h4zB",
        "colab_type": "code",
        "colab": {}
      },
      "source": [
        "from sklearn.metrics import confusion_matrix\n",
        "result = classif.predict(legit_test)\n",
        "conf_nat = confusion_matrix(mal_test,result)"
      ],
      "execution_count": 0,
      "outputs": []
    },
    {
      "cell_type": "code",
      "metadata": {
        "id": "5Khm8IZkh8Ko",
        "colab_type": "code",
        "colab": {
          "base_uri": "https://localhost:8080/",
          "height": 187
        },
        "outputId": "657dcc6e-2ce2-4fa9-99d5-f9cf3dd1c5d6"
      },
      "source": [
        "from sklearn.ensemble import GradientBoostingClassifier\n",
        "\n",
        "grad_boost = GradientBoostingClassifier(n_estimators = 50)\n",
        "\n",
        "grad_boost.fit(legit_train,mal_train)"
      ],
      "execution_count": 13,
      "outputs": [
        {
          "output_type": "execute_result",
          "data": {
            "text/plain": [
              "GradientBoostingClassifier(ccp_alpha=0.0, criterion='friedman_mse', init=None,\n",
              "                           learning_rate=0.1, loss='deviance', max_depth=3,\n",
              "                           max_features=None, max_leaf_nodes=None,\n",
              "                           min_impurity_decrease=0.0, min_impurity_split=None,\n",
              "                           min_samples_leaf=1, min_samples_split=2,\n",
              "                           min_weight_fraction_leaf=0.0, n_estimators=50,\n",
              "                           n_iter_no_change=None, presort='deprecated',\n",
              "                           random_state=None, subsample=1.0, tol=0.0001,\n",
              "                           validation_fraction=0.1, verbose=0,\n",
              "                           warm_start=False)"
            ]
          },
          "metadata": {
            "tags": []
          },
          "execution_count": 13
        }
      ]
    },
    {
      "cell_type": "code",
      "metadata": {
        "id": "tPRkTz1KiAWV",
        "colab_type": "code",
        "colab": {
          "base_uri": "https://localhost:8080/",
          "height": 34
        },
        "outputId": "5be5a283-4ba6-4a93-f16e-1d93557ac9e9"
      },
      "source": [
        "grad_boost.score(legit_test,mal_test)*100"
      ],
      "execution_count": 14,
      "outputs": [
        {
          "output_type": "execute_result",
          "data": {
            "text/plain": [
              "95.0"
            ]
          },
          "metadata": {
            "tags": []
          },
          "execution_count": 14
        }
      ]
    },
    {
      "cell_type": "code",
      "metadata": {
        "id": "NzMzP-0oiEhV",
        "colab_type": "code",
        "colab": {}
      },
      "source": [
        ""
      ],
      "execution_count": 0,
      "outputs": []
    }
  ]
}